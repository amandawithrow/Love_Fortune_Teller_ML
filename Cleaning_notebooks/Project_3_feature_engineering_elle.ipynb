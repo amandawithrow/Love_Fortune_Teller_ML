{
 "cells": [
  {
   "cell_type": "code",
   "execution_count": 86,
   "metadata": {},
   "outputs": [],
   "source": [
    "import pandas as pd\n",
    "from sqlalchemy import create_engine\n",
    "import numpy as np"
   ]
  },
  {
   "cell_type": "code",
   "execution_count": 87,
   "metadata": {},
   "outputs": [],
   "source": [
    "from pivottablejs import pivot_ui"
   ]
  },
  {
   "cell_type": "code",
   "execution_count": 88,
   "metadata": {},
   "outputs": [
    {
     "name": "stdout",
     "output_type": "stream",
     "text": [
      "C:\\Users\\xiex8\\AppData\\Roaming\\jupyter\n"
     ]
    }
   ],
   "source": [
    "from jupyter_core.paths import jupyter_data_dir\n",
    "print(jupyter_data_dir())"
   ]
  },
  {
   "cell_type": "markdown",
   "metadata": {},
   "source": [
    "## Import wv1 raw data and drop columns"
   ]
  },
  {
   "cell_type": "code",
   "execution_count": 89,
   "metadata": {},
   "outputs": [],
   "source": [
    "# read in raw data (3009 rows, 239 columns)\n",
    "\n",
    "raw = pd.read_csv(\"project_3_raw_data_wv1.csv\")"
   ]
  },
  {
   "cell_type": "code",
   "execution_count": 90,
   "metadata": {},
   "outputs": [],
   "source": [
    "# inspect all the columns\n",
    "# for cl in raw.columns:\n",
    "#     print(cl)"
   ]
  },
  {
   "cell_type": "code",
   "execution_count": 91,
   "metadata": {},
   "outputs": [
    {
     "data": {
      "text/html": [
       "<div>\n",
       "<style scoped>\n",
       "    .dataframe tbody tr th:only-of-type {\n",
       "        vertical-align: middle;\n",
       "    }\n",
       "\n",
       "    .dataframe tbody tr th {\n",
       "        vertical-align: top;\n",
       "    }\n",
       "\n",
       "    .dataframe thead th {\n",
       "        text-align: right;\n",
       "    }\n",
       "</style>\n",
       "<table border=\"1\" class=\"dataframe\">\n",
       "  <thead>\n",
       "    <tr style=\"text-align: right;\">\n",
       "      <th></th>\n",
       "      <th>caseid_new</th>\n",
       "      <th>q12</th>\n",
       "      <th>pppartyid3</th>\n",
       "      <th>q23</th>\n",
       "    </tr>\n",
       "  </thead>\n",
       "  <tbody>\n",
       "    <tr>\n",
       "      <th>0</th>\n",
       "      <td>22526</td>\n",
       "      <td>democrat</td>\n",
       "      <td>democrat</td>\n",
       "      <td>partner earned more</td>\n",
       "    </tr>\n",
       "    <tr>\n",
       "      <th>1</th>\n",
       "      <td>23286</td>\n",
       "      <td>democrat</td>\n",
       "      <td>democrat</td>\n",
       "      <td>i earned more</td>\n",
       "    </tr>\n",
       "    <tr>\n",
       "      <th>2</th>\n",
       "      <td>26315</td>\n",
       "      <td>democrat</td>\n",
       "      <td>democrat</td>\n",
       "      <td>i earned more</td>\n",
       "    </tr>\n",
       "    <tr>\n",
       "      <th>3</th>\n",
       "      <td>28536</td>\n",
       "      <td>democrat</td>\n",
       "      <td>democrat</td>\n",
       "      <td>i earned more</td>\n",
       "    </tr>\n",
       "    <tr>\n",
       "      <th>4</th>\n",
       "      <td>29584</td>\n",
       "      <td>democrat</td>\n",
       "      <td>democrat</td>\n",
       "      <td>partner earned more</td>\n",
       "    </tr>\n",
       "  </tbody>\n",
       "</table>\n",
       "</div>"
      ],
      "text/plain": [
       "   caseid_new       q12 pppartyid3                  q23\n",
       "0       22526  democrat   democrat  partner earned more\n",
       "1       23286  democrat   democrat        i earned more\n",
       "2       26315  democrat   democrat        i earned more\n",
       "3       28536  democrat   democrat        i earned more\n",
       "4       29584  democrat   democrat  partner earned more"
      ]
     },
     "execution_count": 91,
     "metadata": {},
     "output_type": "execute_result"
    }
   ],
   "source": [
    "# caseid_new is unique key; q12 and pppartyid3 are political party related questions; q23 is income gap\n",
    "\n",
    "columns_to_keep = ['caseid_new','q12','pppartyid3','q23']\n",
    "\n",
    "df = raw[columns_to_keep]\n",
    "\n",
    "df.head()"
   ]
  },
  {
   "cell_type": "markdown",
   "metadata": {},
   "source": [
    "## Same Political"
   ]
  },
  {
   "cell_type": "code",
   "execution_count": 92,
   "metadata": {},
   "outputs": [
    {
     "name": "stdout",
     "output_type": "stream",
     "text": [
      "Wall time: 5.98 ms\n"
     ]
    },
    {
     "name": "stderr",
     "output_type": "stream",
     "text": [
      "C:\\Users\\xiex8\\AppData\\Local\\Continuum\\anaconda3\\envs\\PythonData\\lib\\site-packages\\ipykernel_launcher.py:1: SettingWithCopyWarning: \n",
      "A value is trying to be set on a copy of a slice from a DataFrame.\n",
      "Try using .loc[row_indexer,col_indexer] = value instead\n",
      "\n",
      "See the caveats in the documentation: http://pandas.pydata.org/pandas-docs/stable/user_guide/indexing.html#returning-a-view-versus-a-copy\n",
      "  \"\"\"Entry point for launching an IPython kernel.\n"
     ]
    }
   ],
   "source": [
    "%%time\n",
    "df['same_political'] = np.NaN"
   ]
  },
  {
   "cell_type": "code",
   "execution_count": 93,
   "metadata": {},
   "outputs": [],
   "source": [
    "def same_political (row):\n",
    "    respondent = row['pppartyid3']\n",
    "    partner=row['q12']\n",
    "    \n",
    "    if respondent == partner:\n",
    "        row['same_political'] = 1\n",
    "    else:\n",
    "        row['same_political'] = 0\n",
    "    \n",
    "    return row"
   ]
  },
  {
   "cell_type": "code",
   "execution_count": 94,
   "metadata": {},
   "outputs": [],
   "source": [
    "df = df.apply(same_political, axis=1)"
   ]
  },
  {
   "cell_type": "code",
   "execution_count": 95,
   "metadata": {},
   "outputs": [
    {
     "data": {
      "text/html": [
       "<div>\n",
       "<style scoped>\n",
       "    .dataframe tbody tr th:only-of-type {\n",
       "        vertical-align: middle;\n",
       "    }\n",
       "\n",
       "    .dataframe tbody tr th {\n",
       "        vertical-align: top;\n",
       "    }\n",
       "\n",
       "    .dataframe thead th {\n",
       "        text-align: right;\n",
       "    }\n",
       "</style>\n",
       "<table border=\"1\" class=\"dataframe\">\n",
       "  <thead>\n",
       "    <tr style=\"text-align: right;\">\n",
       "      <th></th>\n",
       "      <th>caseid_new</th>\n",
       "      <th>q12</th>\n",
       "      <th>pppartyid3</th>\n",
       "      <th>q23</th>\n",
       "      <th>same_political</th>\n",
       "    </tr>\n",
       "  </thead>\n",
       "  <tbody>\n",
       "    <tr>\n",
       "      <th>0</th>\n",
       "      <td>22526</td>\n",
       "      <td>democrat</td>\n",
       "      <td>democrat</td>\n",
       "      <td>partner earned more</td>\n",
       "      <td>1</td>\n",
       "    </tr>\n",
       "    <tr>\n",
       "      <th>1</th>\n",
       "      <td>23286</td>\n",
       "      <td>democrat</td>\n",
       "      <td>democrat</td>\n",
       "      <td>i earned more</td>\n",
       "      <td>1</td>\n",
       "    </tr>\n",
       "    <tr>\n",
       "      <th>2</th>\n",
       "      <td>26315</td>\n",
       "      <td>democrat</td>\n",
       "      <td>democrat</td>\n",
       "      <td>i earned more</td>\n",
       "      <td>1</td>\n",
       "    </tr>\n",
       "    <tr>\n",
       "      <th>3</th>\n",
       "      <td>28536</td>\n",
       "      <td>democrat</td>\n",
       "      <td>democrat</td>\n",
       "      <td>i earned more</td>\n",
       "      <td>1</td>\n",
       "    </tr>\n",
       "    <tr>\n",
       "      <th>4</th>\n",
       "      <td>29584</td>\n",
       "      <td>democrat</td>\n",
       "      <td>democrat</td>\n",
       "      <td>partner earned more</td>\n",
       "      <td>1</td>\n",
       "    </tr>\n",
       "  </tbody>\n",
       "</table>\n",
       "</div>"
      ],
      "text/plain": [
       "   caseid_new       q12 pppartyid3                  q23  same_political\n",
       "0       22526  democrat   democrat  partner earned more               1\n",
       "1       23286  democrat   democrat        i earned more               1\n",
       "2       26315  democrat   democrat        i earned more               1\n",
       "3       28536  democrat   democrat        i earned more               1\n",
       "4       29584  democrat   democrat  partner earned more               1"
      ]
     },
     "execution_count": 95,
     "metadata": {},
     "output_type": "execute_result"
    }
   ],
   "source": [
    "df.head()"
   ]
  },
  {
   "cell_type": "code",
   "execution_count": 96,
   "metadata": {},
   "outputs": [
    {
     "data": {
      "text/plain": [
       "1    1738\n",
       "0    1271\n",
       "Name: same_political, dtype: int64"
      ]
     },
     "execution_count": 96,
     "metadata": {},
     "output_type": "execute_result"
    }
   ],
   "source": [
    "df['same_political'].value_counts()"
   ]
  },
  {
   "cell_type": "markdown",
   "metadata": {},
   "source": [
    "## Income Gap"
   ]
  },
  {
   "cell_type": "code",
   "execution_count": 97,
   "metadata": {},
   "outputs": [
    {
     "data": {
      "text/plain": [
       "i earned more                      1332\n",
       "partner earned more                1272\n",
       "we earned about the same amount     374\n",
       "refused                              31\n",
       "Name: q23, dtype: int64"
      ]
     },
     "execution_count": 97,
     "metadata": {},
     "output_type": "execute_result"
    }
   ],
   "source": [
    "df['q23'].value_counts()"
   ]
  },
  {
   "cell_type": "code",
   "execution_count": 98,
   "metadata": {},
   "outputs": [
    {
     "name": "stdout",
     "output_type": "stream",
     "text": [
      "Wall time: 997 µs\n"
     ]
    }
   ],
   "source": [
    "%%time\n",
    "df['income_gap'] = np.NaN\n",
    "df['respondent_earn_more'] = np.NaN"
   ]
  },
  {
   "cell_type": "code",
   "execution_count": 99,
   "metadata": {},
   "outputs": [],
   "source": [
    "def income_gap (row):\n",
    "    \n",
    "    if row['q23'] == 'we earned about the same amount':\n",
    "        row['income_gap'] = 0\n",
    "        \n",
    "    elif row['q23'] == 'refused':\n",
    "        row['income_gap'] = np.NaN\n",
    "    \n",
    "    else:\n",
    "        row['income_gap'] = 1\n",
    "        \n",
    "        if row['q23'] == 'i earned more':\n",
    "            row['respondent_earn_more'] = 1\n",
    "        else:\n",
    "            row['respondent_earn_more'] = 0\n",
    "    \n",
    "    return row"
   ]
  },
  {
   "cell_type": "code",
   "execution_count": 100,
   "metadata": {},
   "outputs": [],
   "source": [
    "df = df.apply(income_gap, axis=1)"
   ]
  },
  {
   "cell_type": "code",
   "execution_count": 101,
   "metadata": {},
   "outputs": [
    {
     "data": {
      "text/html": [
       "<div>\n",
       "<style scoped>\n",
       "    .dataframe tbody tr th:only-of-type {\n",
       "        vertical-align: middle;\n",
       "    }\n",
       "\n",
       "    .dataframe tbody tr th {\n",
       "        vertical-align: top;\n",
       "    }\n",
       "\n",
       "    .dataframe thead th {\n",
       "        text-align: right;\n",
       "    }\n",
       "</style>\n",
       "<table border=\"1\" class=\"dataframe\">\n",
       "  <thead>\n",
       "    <tr style=\"text-align: right;\">\n",
       "      <th></th>\n",
       "      <th>caseid_new</th>\n",
       "      <th>q12</th>\n",
       "      <th>pppartyid3</th>\n",
       "      <th>q23</th>\n",
       "      <th>same_political</th>\n",
       "      <th>income_gap</th>\n",
       "      <th>respondent_earn_more</th>\n",
       "    </tr>\n",
       "  </thead>\n",
       "  <tbody>\n",
       "    <tr>\n",
       "      <th>0</th>\n",
       "      <td>22526</td>\n",
       "      <td>democrat</td>\n",
       "      <td>democrat</td>\n",
       "      <td>partner earned more</td>\n",
       "      <td>1</td>\n",
       "      <td>1.0</td>\n",
       "      <td>0.0</td>\n",
       "    </tr>\n",
       "    <tr>\n",
       "      <th>1</th>\n",
       "      <td>23286</td>\n",
       "      <td>democrat</td>\n",
       "      <td>democrat</td>\n",
       "      <td>i earned more</td>\n",
       "      <td>1</td>\n",
       "      <td>1.0</td>\n",
       "      <td>1.0</td>\n",
       "    </tr>\n",
       "    <tr>\n",
       "      <th>2</th>\n",
       "      <td>26315</td>\n",
       "      <td>democrat</td>\n",
       "      <td>democrat</td>\n",
       "      <td>i earned more</td>\n",
       "      <td>1</td>\n",
       "      <td>1.0</td>\n",
       "      <td>1.0</td>\n",
       "    </tr>\n",
       "    <tr>\n",
       "      <th>3</th>\n",
       "      <td>28536</td>\n",
       "      <td>democrat</td>\n",
       "      <td>democrat</td>\n",
       "      <td>i earned more</td>\n",
       "      <td>1</td>\n",
       "      <td>1.0</td>\n",
       "      <td>1.0</td>\n",
       "    </tr>\n",
       "    <tr>\n",
       "      <th>4</th>\n",
       "      <td>29584</td>\n",
       "      <td>democrat</td>\n",
       "      <td>democrat</td>\n",
       "      <td>partner earned more</td>\n",
       "      <td>1</td>\n",
       "      <td>1.0</td>\n",
       "      <td>0.0</td>\n",
       "    </tr>\n",
       "  </tbody>\n",
       "</table>\n",
       "</div>"
      ],
      "text/plain": [
       "   caseid_new       q12 pppartyid3                  q23  same_political  \\\n",
       "0       22526  democrat   democrat  partner earned more               1   \n",
       "1       23286  democrat   democrat        i earned more               1   \n",
       "2       26315  democrat   democrat        i earned more               1   \n",
       "3       28536  democrat   democrat        i earned more               1   \n",
       "4       29584  democrat   democrat  partner earned more               1   \n",
       "\n",
       "   income_gap  respondent_earn_more  \n",
       "0         1.0                   0.0  \n",
       "1         1.0                   1.0  \n",
       "2         1.0                   1.0  \n",
       "3         1.0                   1.0  \n",
       "4         1.0                   0.0  "
      ]
     },
     "execution_count": 101,
     "metadata": {},
     "output_type": "execute_result"
    }
   ],
   "source": [
    "df.head()"
   ]
  },
  {
   "cell_type": "code",
   "execution_count": 102,
   "metadata": {},
   "outputs": [
    {
     "data": {
      "text/plain": [
       "1.0    2604\n",
       "0.0     374\n",
       "Name: income_gap, dtype: int64"
      ]
     },
     "execution_count": 102,
     "metadata": {},
     "output_type": "execute_result"
    }
   ],
   "source": [
    "df['income_gap'].value_counts()"
   ]
  },
  {
   "cell_type": "code",
   "execution_count": 103,
   "metadata": {},
   "outputs": [
    {
     "data": {
      "text/plain": [
       "1.0    1332\n",
       "0.0    1272\n",
       "Name: respondent_earn_more, dtype: int64"
      ]
     },
     "execution_count": 103,
     "metadata": {},
     "output_type": "execute_result"
    }
   ],
   "source": [
    "df['respondent_earn_more'].value_counts()"
   ]
  },
  {
   "cell_type": "markdown",
   "metadata": {},
   "source": [
    "## Final clean up for \"income gap\" and \"same political\" and save to CSV"
   ]
  },
  {
   "cell_type": "code",
   "execution_count": 104,
   "metadata": {},
   "outputs": [],
   "source": [
    "df = df.rename(columns={\n",
    "    'q12':'partner_political',\n",
    "    'pppartyid3':'resondent_political',\n",
    "    'q23':'income_gap_raw'\n",
    "})"
   ]
  },
  {
   "cell_type": "code",
   "execution_count": 105,
   "metadata": {},
   "outputs": [
    {
     "data": {
      "text/plain": [
       "(3009, 7)"
      ]
     },
     "execution_count": 105,
     "metadata": {},
     "output_type": "execute_result"
    }
   ],
   "source": [
    "df.shape"
   ]
  },
  {
   "cell_type": "code",
   "execution_count": 106,
   "metadata": {},
   "outputs": [
    {
     "data": {
      "text/plain": [
       "Index(['caseid_new', 'partner_political', 'resondent_political',\n",
       "       'income_gap_raw', 'same_political', 'income_gap',\n",
       "       'respondent_earn_more'],\n",
       "      dtype='object')"
      ]
     },
     "execution_count": 106,
     "metadata": {},
     "output_type": "execute_result"
    }
   ],
   "source": [
    "df.columns"
   ]
  },
  {
   "cell_type": "code",
   "execution_count": 107,
   "metadata": {},
   "outputs": [
    {
     "data": {
      "text/html": [
       "<div>\n",
       "<style scoped>\n",
       "    .dataframe tbody tr th:only-of-type {\n",
       "        vertical-align: middle;\n",
       "    }\n",
       "\n",
       "    .dataframe tbody tr th {\n",
       "        vertical-align: top;\n",
       "    }\n",
       "\n",
       "    .dataframe thead th {\n",
       "        text-align: right;\n",
       "    }\n",
       "</style>\n",
       "<table border=\"1\" class=\"dataframe\">\n",
       "  <thead>\n",
       "    <tr style=\"text-align: right;\">\n",
       "      <th></th>\n",
       "      <th>caseid_new</th>\n",
       "    </tr>\n",
       "    <tr>\n",
       "      <th>income_gap_raw</th>\n",
       "      <th></th>\n",
       "    </tr>\n",
       "  </thead>\n",
       "  <tbody>\n",
       "    <tr>\n",
       "      <th>i earned more</th>\n",
       "      <td>1332</td>\n",
       "    </tr>\n",
       "    <tr>\n",
       "      <th>partner earned more</th>\n",
       "      <td>1272</td>\n",
       "    </tr>\n",
       "    <tr>\n",
       "      <th>refused</th>\n",
       "      <td>31</td>\n",
       "    </tr>\n",
       "    <tr>\n",
       "      <th>we earned about the same amount</th>\n",
       "      <td>374</td>\n",
       "    </tr>\n",
       "  </tbody>\n",
       "</table>\n",
       "</div>"
      ],
      "text/plain": [
       "                                 caseid_new\n",
       "income_gap_raw                             \n",
       "i earned more                          1332\n",
       "partner earned more                    1272\n",
       "refused                                  31\n",
       "we earned about the same amount         374"
      ]
     },
     "execution_count": 107,
     "metadata": {},
     "output_type": "execute_result"
    }
   ],
   "source": [
    "pd.pivot_table(df,values=\"caseid_new\",index=\"income_gap_raw\",aggfunc='count',dropna=True, fill_value=0)"
   ]
  },
  {
   "cell_type": "code",
   "execution_count": 108,
   "metadata": {},
   "outputs": [],
   "source": [
    "df.to_csv('project_3_political_income_gap.csv')"
   ]
  },
  {
   "cell_type": "markdown",
   "metadata": {},
   "source": [
    "## Create Dummy for all the categorical variables in our project 2 final table"
   ]
  },
  {
   "cell_type": "code",
   "execution_count": 109,
   "metadata": {},
   "outputs": [],
   "source": [
    "prjt2_df = pd.read_csv(\"project_2_final_table.csv\")"
   ]
  },
  {
   "cell_type": "code",
   "execution_count": 110,
   "metadata": {},
   "outputs": [
    {
     "data": {
      "text/plain": [
       "Index(['Unnamed: 0', 'caseid_new', 'qflag_w1', 'married_w1', 'children_in_hh',\n",
       "       'age_difference', 'age_gap_bin', 'same_sex_couple', 'race_gap',\n",
       "       'religious_gap', 'edu_gap', 'edu_gap_bin', 'parental_approval',\n",
       "       'met_online', 'met_at_work', 'met_at_school', 'met_at_church',\n",
       "       'met_travel', 'met_social', 'met_party', 'met_f_and_f',\n",
       "       'met_as_neighbors', 'met_public_space', 'met_offline_dating',\n",
       "       'met_other', 'how_met_count', 'how_met_unique',\n",
       "       'how_long_relationship_w1', 'relationship_len', 'partner_deceased',\n",
       "       'relationship_quality_w1', 'qflag_w2', 'cflag_w2',\n",
       "       'relationship_status_w2', 'qflag_w3', 'cflag_w3',\n",
       "       'relationship_status_w3', 'qflag_w4', 'cflag_w4',\n",
       "       'relationship_status_w4', 'qflag_w5', 'cflag_w5',\n",
       "       'relationship_status_w5', 'qflag_w6', 'cflag_w6',\n",
       "       'relationship_status_w6'],\n",
       "      dtype='object')"
      ]
     },
     "execution_count": 110,
     "metadata": {},
     "output_type": "execute_result"
    }
   ],
   "source": [
    "prjt2_df.columns"
   ]
  },
  {
   "cell_type": "code",
   "execution_count": 111,
   "metadata": {},
   "outputs": [],
   "source": [
    "# create a list for all the columns to keep for project 3 feature engineering\n",
    "\n",
    "cls_to_keep = ['caseid_new','married_w1', 'children_in_hh',\n",
    "       'age_difference', 'age_gap_bin', 'same_sex_couple', 'race_gap',\n",
    "       'religious_gap', 'edu_gap', 'edu_gap_bin', 'parental_approval',\n",
    "       'met_online', 'met_at_work', 'met_at_school', 'met_at_church',\n",
    "       'met_travel', 'met_social', 'met_party', 'met_f_and_f',\n",
    "       'met_as_neighbors', 'met_public_space', 'met_offline_dating',\n",
    "       'met_other', 'how_met_count', 'relationship_len', 'partner_deceased',\n",
    "       'relationship_quality_w1']"
   ]
  },
  {
   "cell_type": "code",
   "execution_count": 112,
   "metadata": {},
   "outputs": [
    {
     "data": {
      "text/html": [
       "<div>\n",
       "<style scoped>\n",
       "    .dataframe tbody tr th:only-of-type {\n",
       "        vertical-align: middle;\n",
       "    }\n",
       "\n",
       "    .dataframe tbody tr th {\n",
       "        vertical-align: top;\n",
       "    }\n",
       "\n",
       "    .dataframe thead th {\n",
       "        text-align: right;\n",
       "    }\n",
       "</style>\n",
       "<table border=\"1\" class=\"dataframe\">\n",
       "  <thead>\n",
       "    <tr style=\"text-align: right;\">\n",
       "      <th></th>\n",
       "      <th>caseid_new</th>\n",
       "      <th>married_w1</th>\n",
       "      <th>children_in_hh</th>\n",
       "      <th>age_difference</th>\n",
       "      <th>age_gap_bin</th>\n",
       "      <th>same_sex_couple</th>\n",
       "      <th>race_gap</th>\n",
       "      <th>religious_gap</th>\n",
       "      <th>edu_gap</th>\n",
       "      <th>edu_gap_bin</th>\n",
       "      <th>...</th>\n",
       "      <th>met_party</th>\n",
       "      <th>met_f_and_f</th>\n",
       "      <th>met_as_neighbors</th>\n",
       "      <th>met_public_space</th>\n",
       "      <th>met_offline_dating</th>\n",
       "      <th>met_other</th>\n",
       "      <th>how_met_count</th>\n",
       "      <th>relationship_len</th>\n",
       "      <th>partner_deceased</th>\n",
       "      <th>relationship_quality_w1</th>\n",
       "    </tr>\n",
       "  </thead>\n",
       "  <tbody>\n",
       "    <tr>\n",
       "      <th>0</th>\n",
       "      <td>22526</td>\n",
       "      <td>not married</td>\n",
       "      <td>0</td>\n",
       "      <td>4.0</td>\n",
       "      <td>4 to 5</td>\n",
       "      <td>same-sex couple</td>\n",
       "      <td>1</td>\n",
       "      <td>1</td>\n",
       "      <td>2.0</td>\n",
       "      <td>0 to 2</td>\n",
       "      <td>...</td>\n",
       "      <td>0</td>\n",
       "      <td>0</td>\n",
       "      <td>0</td>\n",
       "      <td>1</td>\n",
       "      <td>0</td>\n",
       "      <td>0</td>\n",
       "      <td>2</td>\n",
       "      <td>12.0</td>\n",
       "      <td>0</td>\n",
       "      <td>good</td>\n",
       "    </tr>\n",
       "    <tr>\n",
       "      <th>1</th>\n",
       "      <td>23286</td>\n",
       "      <td>married</td>\n",
       "      <td>0</td>\n",
       "      <td>2.0</td>\n",
       "      <td>0 to 3</td>\n",
       "      <td>same-sex couple</td>\n",
       "      <td>0</td>\n",
       "      <td>1</td>\n",
       "      <td>1.0</td>\n",
       "      <td>0 to 2</td>\n",
       "      <td>...</td>\n",
       "      <td>0</td>\n",
       "      <td>1</td>\n",
       "      <td>1</td>\n",
       "      <td>0</td>\n",
       "      <td>0</td>\n",
       "      <td>0</td>\n",
       "      <td>3</td>\n",
       "      <td>13.0</td>\n",
       "      <td>0</td>\n",
       "      <td>good</td>\n",
       "    </tr>\n",
       "    <tr>\n",
       "      <th>2</th>\n",
       "      <td>26315</td>\n",
       "      <td>not married</td>\n",
       "      <td>0</td>\n",
       "      <td>9.0</td>\n",
       "      <td>6 to 10</td>\n",
       "      <td>same-sex couple</td>\n",
       "      <td>0</td>\n",
       "      <td>1</td>\n",
       "      <td>2.0</td>\n",
       "      <td>0 to 2</td>\n",
       "      <td>...</td>\n",
       "      <td>0</td>\n",
       "      <td>1</td>\n",
       "      <td>0</td>\n",
       "      <td>0</td>\n",
       "      <td>0</td>\n",
       "      <td>0</td>\n",
       "      <td>2</td>\n",
       "      <td>8.0</td>\n",
       "      <td>0</td>\n",
       "      <td>good</td>\n",
       "    </tr>\n",
       "    <tr>\n",
       "      <th>3</th>\n",
       "      <td>28536</td>\n",
       "      <td>not married</td>\n",
       "      <td>0</td>\n",
       "      <td>2.0</td>\n",
       "      <td>0 to 3</td>\n",
       "      <td>same-sex couple</td>\n",
       "      <td>0</td>\n",
       "      <td>1</td>\n",
       "      <td>1.0</td>\n",
       "      <td>0 to 2</td>\n",
       "      <td>...</td>\n",
       "      <td>0</td>\n",
       "      <td>0</td>\n",
       "      <td>0</td>\n",
       "      <td>1</td>\n",
       "      <td>0</td>\n",
       "      <td>0</td>\n",
       "      <td>1</td>\n",
       "      <td>17.0</td>\n",
       "      <td>0</td>\n",
       "      <td>good</td>\n",
       "    </tr>\n",
       "    <tr>\n",
       "      <th>4</th>\n",
       "      <td>29584</td>\n",
       "      <td>married</td>\n",
       "      <td>0</td>\n",
       "      <td>7.0</td>\n",
       "      <td>6 to 10</td>\n",
       "      <td>different sex couple</td>\n",
       "      <td>0</td>\n",
       "      <td>0</td>\n",
       "      <td>0.0</td>\n",
       "      <td>0 to 2</td>\n",
       "      <td>...</td>\n",
       "      <td>0</td>\n",
       "      <td>0</td>\n",
       "      <td>0</td>\n",
       "      <td>0</td>\n",
       "      <td>0</td>\n",
       "      <td>0</td>\n",
       "      <td>1</td>\n",
       "      <td>35.0</td>\n",
       "      <td>0</td>\n",
       "      <td>good</td>\n",
       "    </tr>\n",
       "  </tbody>\n",
       "</table>\n",
       "<p>5 rows × 27 columns</p>\n",
       "</div>"
      ],
      "text/plain": [
       "   caseid_new   married_w1  children_in_hh  age_difference age_gap_bin  \\\n",
       "0       22526  not married               0             4.0      4 to 5   \n",
       "1       23286      married               0             2.0      0 to 3   \n",
       "2       26315  not married               0             9.0     6 to 10   \n",
       "3       28536  not married               0             2.0      0 to 3   \n",
       "4       29584      married               0             7.0     6 to 10   \n",
       "\n",
       "        same_sex_couple  race_gap  religious_gap  edu_gap edu_gap_bin  ...  \\\n",
       "0       same-sex couple         1              1      2.0      0 to 2  ...   \n",
       "1       same-sex couple         0              1      1.0      0 to 2  ...   \n",
       "2       same-sex couple         0              1      2.0      0 to 2  ...   \n",
       "3       same-sex couple         0              1      1.0      0 to 2  ...   \n",
       "4  different sex couple         0              0      0.0      0 to 2  ...   \n",
       "\n",
       "  met_party  met_f_and_f  met_as_neighbors  met_public_space  \\\n",
       "0         0            0                 0                 1   \n",
       "1         0            1                 1                 0   \n",
       "2         0            1                 0                 0   \n",
       "3         0            0                 0                 1   \n",
       "4         0            0                 0                 0   \n",
       "\n",
       "   met_offline_dating  met_other  how_met_count  relationship_len  \\\n",
       "0                   0          0              2              12.0   \n",
       "1                   0          0              3              13.0   \n",
       "2                   0          0              2               8.0   \n",
       "3                   0          0              1              17.0   \n",
       "4                   0          0              1              35.0   \n",
       "\n",
       "   partner_deceased  relationship_quality_w1  \n",
       "0                 0                     good  \n",
       "1                 0                     good  \n",
       "2                 0                     good  \n",
       "3                 0                     good  \n",
       "4                 0                     good  \n",
       "\n",
       "[5 rows x 27 columns]"
      ]
     },
     "execution_count": 112,
     "metadata": {},
     "output_type": "execute_result"
    }
   ],
   "source": [
    "# drop uncenessary columns\n",
    "\n",
    "prjt2_df = prjt2_df[cls_to_keep]\n",
    "prjt2_df.head()"
   ]
  },
  {
   "cell_type": "code",
   "execution_count": 113,
   "metadata": {},
   "outputs": [
    {
     "data": {
      "text/plain": [
       "excellent    1771\n",
       "good          911\n",
       "fair          252\n",
       "poor           42\n",
       "very poor      20\n",
       "Name: relationship_quality_w1, dtype: int64"
      ]
     },
     "execution_count": 113,
     "metadata": {},
     "output_type": "execute_result"
    }
   ],
   "source": [
    "##########################################################################################\n",
    "###### check a couple catergorical columns and see if they are string or numerical  ######\n",
    "##########################################################################################\n",
    "\n",
    "\n",
    "prjt2_df['parental_approval'].value_counts() # string\n",
    "# approve                        1643\n",
    "# don't approve or don't know     460\n",
    "\n",
    "prjt2_df['married_w1'].value_counts() # string\n",
    "# married        1928\n",
    "# not married    1081\n",
    "\n",
    "prjt2_df['same_sex_couple'].value_counts() # string\n",
    "# different sex couple    2535\n",
    "# same-sex couple          474\n",
    "\n",
    "prjt2_df['edu_gap_bin'].value_counts() # string\n",
    "# 0 to 2    2116\n",
    "# 3 to 4     653\n",
    "# 5 to 6     130\n",
    "# >6         102\n",
    "\n",
    "prjt2_df['relationship_quality_w1'].value_counts() # string\n",
    "# excellent    1771\n",
    "# good          911\n",
    "# fair          252\n",
    "# poor           42\n",
    "# very poor      20"
   ]
  },
  {
   "cell_type": "code",
   "execution_count": 114,
   "metadata": {},
   "outputs": [
    {
     "data": {
      "text/plain": [
       "Index(['caseid_new', 'children_in_hh', 'age_difference', 'race_gap',\n",
       "       'religious_gap', 'edu_gap', 'met_online', 'met_at_work',\n",
       "       'met_at_school', 'met_at_church', 'met_travel', 'met_social',\n",
       "       'met_party', 'met_f_and_f', 'met_as_neighbors', 'met_public_space',\n",
       "       'met_offline_dating', 'met_other', 'how_met_count', 'relationship_len',\n",
       "       'partner_deceased', 'married_w1_married', 'married_w1_not married',\n",
       "       'age_gap_bin_0 to 3', 'age_gap_bin_11 to 20', 'age_gap_bin_4 to 5',\n",
       "       'age_gap_bin_6 to 10', 'age_gap_bin_>=20',\n",
       "       'same_sex_couple_different sex couple',\n",
       "       'same_sex_couple_same-sex couple', 'edu_gap_bin_0 to 2',\n",
       "       'edu_gap_bin_3 to 4', 'edu_gap_bin_5 to 6', 'edu_gap_bin_>6',\n",
       "       'parental_approval_approve',\n",
       "       'parental_approval_don't approve or don't know',\n",
       "       'relationship_quality_w1_excellent', 'relationship_quality_w1_fair',\n",
       "       'relationship_quality_w1_good', 'relationship_quality_w1_poor',\n",
       "       'relationship_quality_w1_very poor'],\n",
       "      dtype='object')"
      ]
     },
     "execution_count": 114,
     "metadata": {},
     "output_type": "execute_result"
    }
   ],
   "source": [
    "##############################################################################################################\n",
    "## create dummy for all categorical variables. For 2-value-only variables will remove excessive columns \n",
    "##############################################################################################################\n",
    "\n",
    "\n",
    "## https://pandas.pydata.org/pandas-docs/stable/reference/api/pandas.get_dummies.html\n",
    "\n",
    "prjt2_df = pd.get_dummies(prjt2_df,columns=['married_w1','age_gap_bin','same_sex_couple','edu_gap_bin','parental_approval','relationship_quality_w1'])\n",
    "\n",
    "prjt2_df.columns"
   ]
  },
  {
   "cell_type": "code",
   "execution_count": 115,
   "metadata": {},
   "outputs": [
    {
     "data": {
      "text/plain": [
       "Index(['caseid_new', 'children_in_hh', 'age_difference', 'race_gap',\n",
       "       'religious_gap', 'edu_gap', 'met_online', 'met_at_work',\n",
       "       'met_at_school', 'met_at_church', 'met_travel', 'met_social',\n",
       "       'met_party', 'met_f_and_f', 'met_as_neighbors', 'met_public_space',\n",
       "       'met_offline_dating', 'met_other', 'how_met_count', 'relationship_len',\n",
       "       'partner_deceased', 'married_w1', 'married_w1_not married',\n",
       "       'age_gap_bin_0_to_3', 'age_gap_bin_11_to_20', 'age_gap_bin_4_to_5',\n",
       "       'age_gap_bin_6_to_10', 'age_gap_bin_>=20',\n",
       "       'same_sex_couple_different sex couple', 'same_sex_couple',\n",
       "       'edu_gap_bin_0_to_2', 'edu_gap_bin_3_to_4', 'edu_gap_bin_5_to_6',\n",
       "       'edu_gap_bin_>6', 'parental_approval',\n",
       "       'parental_approval_don't approve or don't know',\n",
       "       'relationship_quality_w1_excellent', 'relationship_quality_w1_fair',\n",
       "       'relationship_quality_w1_good', 'relationship_quality_w1_poor',\n",
       "       'relationship_quality_w1_very poor'],\n",
       "      dtype='object')"
      ]
     },
     "execution_count": 115,
     "metadata": {},
     "output_type": "execute_result"
    }
   ],
   "source": [
    "## Rename columns\n",
    "\n",
    "\n",
    "prjt2_df = prjt2_df.rename(columns={\n",
    "    'married_w1_married':'married_w1',\n",
    "    'age_gap_bin_0 to 3':'age_gap_bin_0_to_3',\n",
    "    'age_gap_bin_11 to 20':'age_gap_bin_11_to_20',\n",
    "    'age_gap_bin_4 to 5':'age_gap_bin_4_to_5',\n",
    "    'age_gap_bin_6 to 10':'age_gap_bin_6_to_10',\n",
    "    'age_gap_bin_>=20':\"age_gap_bin_>=20\",\n",
    "    'same_sex_couple_same-sex couple':'same_sex_couple',\n",
    "    'edu_gap_bin_0 to 2':'edu_gap_bin_0_to_2',\n",
    "    'edu_gap_bin_3 to 4':'edu_gap_bin_3_to_4',\n",
    "    'edu_gap_bin_5 to 6':'edu_gap_bin_5_to_6',\n",
    "    'edu_gap_bin_>6':'edu_gap_bin_>6',\n",
    "    'parental_approval_approve':'parental_approval'\n",
    "})\n",
    "\n",
    "prjt2_df.columns"
   ]
  },
  {
   "cell_type": "code",
   "execution_count": 116,
   "metadata": {},
   "outputs": [
    {
     "data": {
      "text/plain": [
       "Index(['caseid_new', 'married_w1', 'children_in_hh', 'age_difference',\n",
       "       'age_gap_bin_0_to_3', 'age_gap_bin_4_to_5', 'age_gap_bin_6_to_10',\n",
       "       'age_gap_bin_11_to_20', 'age_gap_bin_>=20', 'race_gap', 'religious_gap',\n",
       "       'same_sex_couple', 'parental_approval', 'edu_gap', 'edu_gap_bin_0_to_2',\n",
       "       'edu_gap_bin_3_to_4', 'edu_gap_bin_5_to_6', 'edu_gap_bin_>6',\n",
       "       'met_online', 'met_at_work', 'met_at_school', 'met_at_church',\n",
       "       'met_travel', 'met_social', 'met_party', 'met_f_and_f',\n",
       "       'met_as_neighbors', 'met_public_space', 'met_offline_dating',\n",
       "       'met_other', 'how_met_count', 'relationship_len', 'partner_deceased',\n",
       "       'relationship_quality_w1_excellent', 'relationship_quality_w1_fair',\n",
       "       'relationship_quality_w1_good', 'relationship_quality_w1_poor',\n",
       "       'relationship_quality_w1_very poor'],\n",
       "      dtype='object')"
      ]
     },
     "execution_count": 116,
     "metadata": {},
     "output_type": "execute_result"
    }
   ],
   "source": [
    "prjt2_df = prjt2_df[['caseid_new','married_w1','children_in_hh','age_difference',\n",
    "                    'age_gap_bin_0_to_3','age_gap_bin_4_to_5','age_gap_bin_6_to_10','age_gap_bin_11_to_20','age_gap_bin_>=20',\n",
    "                    'race_gap','religious_gap','same_sex_couple','parental_approval',\n",
    "                    'edu_gap','edu_gap_bin_0_to_2','edu_gap_bin_3_to_4','edu_gap_bin_5_to_6','edu_gap_bin_>6', \n",
    "                    'met_online','met_at_work','met_at_school','met_at_church', \n",
    "                    'met_travel','met_social','met_party','met_f_and_f','met_as_neighbors', \n",
    "                    'met_public_space','met_offline_dating','met_other','how_met_count', \n",
    "                    'relationship_len','partner_deceased', \n",
    "                    'relationship_quality_w1_excellent','relationship_quality_w1_fair',\n",
    "                    'relationship_quality_w1_good','relationship_quality_w1_poor','relationship_quality_w1_very poor']]\n",
    "\n",
    "\n",
    "prjt2_df.columns"
   ]
  },
  {
   "cell_type": "code",
   "execution_count": 119,
   "metadata": {},
   "outputs": [
    {
     "data": {
      "text/html": [
       "<div>\n",
       "<style scoped>\n",
       "    .dataframe tbody tr th:only-of-type {\n",
       "        vertical-align: middle;\n",
       "    }\n",
       "\n",
       "    .dataframe tbody tr th {\n",
       "        vertical-align: top;\n",
       "    }\n",
       "\n",
       "    .dataframe thead th {\n",
       "        text-align: right;\n",
       "    }\n",
       "</style>\n",
       "<table border=\"1\" class=\"dataframe\">\n",
       "  <thead>\n",
       "    <tr style=\"text-align: right;\">\n",
       "      <th></th>\n",
       "      <th>caseid_new</th>\n",
       "      <th>married_w1</th>\n",
       "      <th>children_in_hh</th>\n",
       "      <th>age_difference</th>\n",
       "      <th>age_gap_bin_0_to_3</th>\n",
       "      <th>age_gap_bin_4_to_5</th>\n",
       "      <th>age_gap_bin_6_to_10</th>\n",
       "      <th>age_gap_bin_11_to_20</th>\n",
       "      <th>age_gap_bin_&gt;=20</th>\n",
       "      <th>race_gap</th>\n",
       "      <th>...</th>\n",
       "      <th>met_offline_dating</th>\n",
       "      <th>met_other</th>\n",
       "      <th>how_met_count</th>\n",
       "      <th>relationship_len</th>\n",
       "      <th>partner_deceased</th>\n",
       "      <th>relationship_quality_w1_excellent</th>\n",
       "      <th>relationship_quality_w1_fair</th>\n",
       "      <th>relationship_quality_w1_good</th>\n",
       "      <th>relationship_quality_w1_poor</th>\n",
       "      <th>relationship_quality_w1_very poor</th>\n",
       "    </tr>\n",
       "  </thead>\n",
       "  <tbody>\n",
       "    <tr>\n",
       "      <th>0</th>\n",
       "      <td>22526</td>\n",
       "      <td>0</td>\n",
       "      <td>0</td>\n",
       "      <td>4.0</td>\n",
       "      <td>0</td>\n",
       "      <td>1</td>\n",
       "      <td>0</td>\n",
       "      <td>0</td>\n",
       "      <td>0</td>\n",
       "      <td>1</td>\n",
       "      <td>...</td>\n",
       "      <td>0</td>\n",
       "      <td>0</td>\n",
       "      <td>2</td>\n",
       "      <td>12.0</td>\n",
       "      <td>0</td>\n",
       "      <td>0</td>\n",
       "      <td>0</td>\n",
       "      <td>1</td>\n",
       "      <td>0</td>\n",
       "      <td>0</td>\n",
       "    </tr>\n",
       "    <tr>\n",
       "      <th>1</th>\n",
       "      <td>23286</td>\n",
       "      <td>1</td>\n",
       "      <td>0</td>\n",
       "      <td>2.0</td>\n",
       "      <td>1</td>\n",
       "      <td>0</td>\n",
       "      <td>0</td>\n",
       "      <td>0</td>\n",
       "      <td>0</td>\n",
       "      <td>0</td>\n",
       "      <td>...</td>\n",
       "      <td>0</td>\n",
       "      <td>0</td>\n",
       "      <td>3</td>\n",
       "      <td>13.0</td>\n",
       "      <td>0</td>\n",
       "      <td>0</td>\n",
       "      <td>0</td>\n",
       "      <td>1</td>\n",
       "      <td>0</td>\n",
       "      <td>0</td>\n",
       "    </tr>\n",
       "    <tr>\n",
       "      <th>2</th>\n",
       "      <td>26315</td>\n",
       "      <td>0</td>\n",
       "      <td>0</td>\n",
       "      <td>9.0</td>\n",
       "      <td>0</td>\n",
       "      <td>0</td>\n",
       "      <td>1</td>\n",
       "      <td>0</td>\n",
       "      <td>0</td>\n",
       "      <td>0</td>\n",
       "      <td>...</td>\n",
       "      <td>0</td>\n",
       "      <td>0</td>\n",
       "      <td>2</td>\n",
       "      <td>8.0</td>\n",
       "      <td>0</td>\n",
       "      <td>0</td>\n",
       "      <td>0</td>\n",
       "      <td>1</td>\n",
       "      <td>0</td>\n",
       "      <td>0</td>\n",
       "    </tr>\n",
       "    <tr>\n",
       "      <th>3</th>\n",
       "      <td>28536</td>\n",
       "      <td>0</td>\n",
       "      <td>0</td>\n",
       "      <td>2.0</td>\n",
       "      <td>1</td>\n",
       "      <td>0</td>\n",
       "      <td>0</td>\n",
       "      <td>0</td>\n",
       "      <td>0</td>\n",
       "      <td>0</td>\n",
       "      <td>...</td>\n",
       "      <td>0</td>\n",
       "      <td>0</td>\n",
       "      <td>1</td>\n",
       "      <td>17.0</td>\n",
       "      <td>0</td>\n",
       "      <td>0</td>\n",
       "      <td>0</td>\n",
       "      <td>1</td>\n",
       "      <td>0</td>\n",
       "      <td>0</td>\n",
       "    </tr>\n",
       "    <tr>\n",
       "      <th>4</th>\n",
       "      <td>29584</td>\n",
       "      <td>1</td>\n",
       "      <td>0</td>\n",
       "      <td>7.0</td>\n",
       "      <td>0</td>\n",
       "      <td>0</td>\n",
       "      <td>1</td>\n",
       "      <td>0</td>\n",
       "      <td>0</td>\n",
       "      <td>0</td>\n",
       "      <td>...</td>\n",
       "      <td>0</td>\n",
       "      <td>0</td>\n",
       "      <td>1</td>\n",
       "      <td>35.0</td>\n",
       "      <td>0</td>\n",
       "      <td>0</td>\n",
       "      <td>0</td>\n",
       "      <td>1</td>\n",
       "      <td>0</td>\n",
       "      <td>0</td>\n",
       "    </tr>\n",
       "  </tbody>\n",
       "</table>\n",
       "<p>5 rows × 38 columns</p>\n",
       "</div>"
      ],
      "text/plain": [
       "   caseid_new  married_w1  children_in_hh  age_difference  age_gap_bin_0_to_3  \\\n",
       "0       22526           0               0             4.0                   0   \n",
       "1       23286           1               0             2.0                   1   \n",
       "2       26315           0               0             9.0                   0   \n",
       "3       28536           0               0             2.0                   1   \n",
       "4       29584           1               0             7.0                   0   \n",
       "\n",
       "   age_gap_bin_4_to_5  age_gap_bin_6_to_10  age_gap_bin_11_to_20  \\\n",
       "0                   1                    0                     0   \n",
       "1                   0                    0                     0   \n",
       "2                   0                    1                     0   \n",
       "3                   0                    0                     0   \n",
       "4                   0                    1                     0   \n",
       "\n",
       "   age_gap_bin_>=20  race_gap  ...  met_offline_dating  met_other  \\\n",
       "0                 0         1  ...                   0          0   \n",
       "1                 0         0  ...                   0          0   \n",
       "2                 0         0  ...                   0          0   \n",
       "3                 0         0  ...                   0          0   \n",
       "4                 0         0  ...                   0          0   \n",
       "\n",
       "   how_met_count  relationship_len  partner_deceased  \\\n",
       "0              2              12.0                 0   \n",
       "1              3              13.0                 0   \n",
       "2              2               8.0                 0   \n",
       "3              1              17.0                 0   \n",
       "4              1              35.0                 0   \n",
       "\n",
       "   relationship_quality_w1_excellent  relationship_quality_w1_fair  \\\n",
       "0                                  0                             0   \n",
       "1                                  0                             0   \n",
       "2                                  0                             0   \n",
       "3                                  0                             0   \n",
       "4                                  0                             0   \n",
       "\n",
       "   relationship_quality_w1_good  relationship_quality_w1_poor  \\\n",
       "0                             1                             0   \n",
       "1                             1                             0   \n",
       "2                             1                             0   \n",
       "3                             1                             0   \n",
       "4                             1                             0   \n",
       "\n",
       "   relationship_quality_w1_very poor  \n",
       "0                                  0  \n",
       "1                                  0  \n",
       "2                                  0  \n",
       "3                                  0  \n",
       "4                                  0  \n",
       "\n",
       "[5 rows x 38 columns]"
      ]
     },
     "execution_count": 119,
     "metadata": {},
     "output_type": "execute_result"
    }
   ],
   "source": [
    "prjt2_df.head()"
   ]
  },
  {
   "cell_type": "code",
   "execution_count": null,
   "metadata": {},
   "outputs": [],
   "source": [
    "prjt2_df.to_csv('project_3_cleaned_prjt2_columns.csv')"
   ]
  }
 ],
 "metadata": {
  "kernelspec": {
   "display_name": "Python 3",
   "language": "python",
   "name": "python3"
  },
  "language_info": {
   "codemirror_mode": {
    "name": "ipython",
    "version": 3
   },
   "file_extension": ".py",
   "mimetype": "text/x-python",
   "name": "python",
   "nbconvert_exporter": "python",
   "pygments_lexer": "ipython3",
   "version": "3.6.9"
  }
 },
 "nbformat": 4,
 "nbformat_minor": 2
}
