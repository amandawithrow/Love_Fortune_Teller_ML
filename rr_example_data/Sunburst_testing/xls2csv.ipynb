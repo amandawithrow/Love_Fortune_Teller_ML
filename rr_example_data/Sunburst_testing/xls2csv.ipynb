{
 "cells": [
  {
   "cell_type": "code",
   "execution_count": 9,
   "metadata": {},
   "outputs": [],
   "source": [
    "import pandas as pd\n",
    "import os"
   ]
  },
  {
   "cell_type": "code",
   "execution_count": 10,
   "metadata": {},
   "outputs": [],
   "source": [
    "example_sunburst = pd.read_excel('example_dataset.xlsx')"
   ]
  },
  {
   "cell_type": "code",
   "execution_count": 12,
   "metadata": {},
   "outputs": [],
   "source": [
    "example_sunburst.to_csv('example_dataset_CSV.csv', index=False)"
   ]
  },
  {
   "cell_type": "code",
   "execution_count": 13,
   "metadata": {},
   "outputs": [],
   "source": [
    "# import csv\n",
    "# import json\n",
    "# import sys\n",
    "\n",
    "# tree = {}\n",
    "# # reader = csv.reader(open(sys.argv[1], 'rb'))\n",
    "# reader = csv.reader(open(sys.argv[1], 'rb'))\n",
    "# reader.next() \n",
    "# for row in reader:\n",
    "#     subtree = tree\n",
    "#     for i, cell in enumerate(row):\n",
    "#         if cell:\n",
    "#             if cell not in subtree:\n",
    "#                 subtree[cell] = {} if i<len(row)-1 else 1\n",
    "#             subtree = subtree[cell]\n",
    "\n",
    "# print json.dumps(tree, indent=4)"
   ]
  },
  {
   "cell_type": "code",
   "execution_count": null,
   "metadata": {},
   "outputs": [],
   "source": []
  }
 ],
 "metadata": {
  "kernelspec": {
   "display_name": "Python 3",
   "language": "python",
   "name": "python3"
  },
  "language_info": {
   "codemirror_mode": {
    "name": "ipython",
    "version": 3
   },
   "file_extension": ".py",
   "mimetype": "text/x-python",
   "name": "python",
   "nbconvert_exporter": "python",
   "pygments_lexer": "ipython3",
   "version": "3.6.8"
  }
 },
 "nbformat": 4,
 "nbformat_minor": 2
}
