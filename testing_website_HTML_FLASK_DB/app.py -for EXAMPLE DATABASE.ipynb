{
 "cells": [
  {
   "cell_type": "code",
   "execution_count": 2,
   "metadata": {},
   "outputs": [],
   "source": [
    "import os\n",
    "\n",
    "import pandas as pd\n",
    "import numpy as np\n",
    "\n",
    "from sqlalchemy.ext.automap import automap_base\n",
    "from sqlalchemy.orm import Session\n",
    "from sqlalchemy import create_engine\n",
    "\n",
    "from flask import Flask, jsonify, render_template\n",
    "from flask_sqlalchemy import SQLAlchemy\n",
    "\n",
    "app = Flask(__name__)"
   ]
  },
  {
   "cell_type": "code",
   "execution_count": 3,
   "metadata": {
    "scrolled": true
   },
   "outputs": [],
   "source": [
    "# app.config[\"SQLALCHEMY_DATABASE_URI\"] = \"sqlite:///db/bellybutton.sqlite\" # this works\n",
    "# app.config[\"SQLALCHEMY_DATABASE_URI\"] = \"sqlite:///db/fake_data.sqlite\"\n",
    "# db = SQLAlchemy(app)"
   ]
  },
  {
   "cell_type": "code",
   "execution_count": 4,
   "metadata": {},
   "outputs": [
    {
     "name": "stderr",
     "output_type": "stream",
     "text": [
      "C:\\Users\\Romina\\Anaconda3\\lib\\site-packages\\flask_sqlalchemy\\__init__.py:774: UserWarning: Neither SQLALCHEMY_DATABASE_URI nor SQLALCHEMY_BINDS is set. Defaulting SQLALCHEMY_DATABASE_URI to \"sqlite:///:memory:\".\n",
      "  'Neither SQLALCHEMY_DATABASE_URI nor SQLALCHEMY_BINDS is set. '\n",
      "C:\\Users\\Romina\\Anaconda3\\lib\\site-packages\\flask_sqlalchemy\\__init__.py:794: FSADeprecationWarning: SQLALCHEMY_TRACK_MODIFICATIONS adds significant overhead and will be disabled by default in the future.  Set it to True or False to suppress this warning.\n",
      "  'SQLALCHEMY_TRACK_MODIFICATIONS adds significant overhead and '\n"
     ]
    }
   ],
   "source": [
    "# create engine\n",
    "engine = create_engine(\"sqlite:///db/HCMST_all_wvs_fake.db\")\n",
    "\n",
    "db = SQLAlchemy(app)"
   ]
  },
  {
   "cell_type": "code",
   "execution_count": 5,
   "metadata": {},
   "outputs": [],
   "source": [
    "# reflect an existing database into a new model\n",
    "Base = automap_base()\n",
    "# reflect the tables\n",
    "Base.prepare(engine, reflect=True)"
   ]
  },
  {
   "cell_type": "code",
   "execution_count": 6,
   "metadata": {},
   "outputs": [
    {
     "data": {
      "text/plain": [
       "['api_data_table', 'df']"
      ]
     },
     "execution_count": 6,
     "metadata": {},
     "output_type": "execute_result"
    }
   ],
   "source": [
    "Base.classes.keys()"
   ]
  },
  {
   "cell_type": "code",
   "execution_count": 7,
   "metadata": {},
   "outputs": [
    {
     "data": {
      "text/plain": [
       "sqlalchemy.ext.automap.api_data_table"
      ]
     },
     "execution_count": 7,
     "metadata": {},
     "output_type": "execute_result"
    }
   ],
   "source": [
    "table = Base.classes.api_data_table\n",
    "table"
   ]
  },
  {
   "cell_type": "code",
   "execution_count": 8,
   "metadata": {},
   "outputs": [],
   "source": [
    "# session = Session(engine)"
   ]
  },
  {
   "cell_type": "code",
   "execution_count": 30,
   "metadata": {},
   "outputs": [
    {
     "name": "stderr",
     "output_type": "stream",
     "text": [
      "C:\\Users\\Romina\\Anaconda3\\lib\\site-packages\\flask_sqlalchemy\\__init__.py:794: FSADeprecationWarning: SQLALCHEMY_TRACK_MODIFICATIONS adds significant overhead and will be disabled by default in the future.  Set it to True or False to suppress this warning.\n",
      "  'SQLALCHEMY_TRACK_MODIFICATIONS adds significant overhead and '\n"
     ]
    }
   ],
   "source": [
    "db = SQLAlchemy(app)"
   ]
  },
  {
   "cell_type": "code",
   "execution_count": 31,
   "metadata": {},
   "outputs": [
    {
     "name": "stdout",
     "output_type": "stream",
     "text": [
      "['index', 'caseid_new', 'qflag', 'married', 'children_in_hh', 'age', 'age_bin', 'age_difference_bin', 'age_difference', 'same_sex_couple', 'met_online', 'how_long_relationship', 'relationship_quality', 'how_met']\n",
      "(0, 1001, 'partnered', 'not married', 0, 22, '20-29', '0-5', 0, 'n', 1, 7, 'good', 'work')\n",
      "(1, 1002, 'partnered', 'married', 0, 33, '30-39', '0-5', 2, 'n', 1, 8, 'excellent', 'online')\n",
      "(2, 1003, 'partnered', 'not married', 0, 44, '40-49', '0-5', 5, 'n', 0, 8, 'fair', 'work')\n",
      "(3, 1004, 'not partnered', 'not married', 0, 55, '50-59', '6-10', 8, 'n', 0, 4, 'poor', 'school')\n",
      "(4, 1005, 'partnered', 'not married', 0, 66, '60-69', '0-5', 0, 'n', 0, 12, 'good', 'church')\n",
      "(5, 1006, 'partnered', 'not married', 0, 77, '70-79', '21-30', 23, 'n', 0, 41, 'excellent', 'social organization')\n",
      "(6, 1007, 'partnered', 'married', 1, 23, '20-29', '11-20', 14, 'y', 1, 13, 'good', 'travelling')\n",
      "(7, 1008, 'not partnered', 'married', 1, 33, '30-39', '0-5', 1, 'n', 1, 9, 'excellent', 'online')\n",
      "(8, 1009, 'partnered', 'married', 2, 43, '40-49', '0-5', 3, 'n', 0, 6, 'fair', 'work')\n",
      "(9, 1010, 'partnered', 'married', 0, 53, '50-59', '6-10', 9, 'n', 0, 9, 'poor', 'church')\n",
      "(10, 1011, 'partnered', 'not married', 0, 63, '60-69', '0-5', 2, 'n', 0, 1, 'good', 'work')\n",
      "(11, 1012, 'partnered', 'married', 3, 73, '70-79', '0-5', 4, 'y', 0, 2, 'excellent', 'online')\n",
      "(12, 1013, 'not partnered', 'not married', 0, 39, '30-39', '0-5', 0, 'n', 1, 3, 'good', 'work')\n",
      "(13, 1014, 'partnered', 'married', 0, 49, '40-49', '0-5', 0, 'n', 1, 4, 'excellent', 'school')\n",
      "(14, 1015, 'partnered', 'not married', 0, 59, '50-59', '11-20', 17, 'n', 0, 8, 'fair', 'church')\n",
      "(15, 1016, 'partnered', 'married', 1, 32, '30-39', '31-40', 37, 'n', 1, 2, 'poor', 'social organization')\n",
      "(16, 1017, 'not partnered', 'not married', 2, 42, '40-49', '0-5', 5, 'n', 0, 15, 'good', 'travelling')\n",
      "(17, 1018, 'partnered', 'married', 0, 52, '50-59', '0-5', 4, 'y', 0, 10, 'excellent', 'online')\n",
      "(18, 1019, 'partnered', 'married', 3, 30, '30-39', '6-10', 6, 'y', 1, 5, 'excellent', 'work')\n",
      "(19, 1020, 'not partnered', 'married', 0, 22, '20-29', '0-5', 4, 'y', 1, 6, 'excellent', 'church')\n"
     ]
    }
   ],
   "source": [
    "data= engine.execute(\"SELECT * FROM api_data_table\")\n",
    "print(data.keys())\n",
    "for record in data:\n",
    "    print(record)"
   ]
  },
  {
   "cell_type": "code",
   "execution_count": 32,
   "metadata": {},
   "outputs": [
    {
     "data": {
      "text/plain": [
       "[(33, 'married'),\n",
       " (23, 'married'),\n",
       " (33, 'married'),\n",
       " (43, 'married'),\n",
       " (53, 'married'),\n",
       " (73, 'married'),\n",
       " (49, 'married'),\n",
       " (32, 'married'),\n",
       " (52, 'married'),\n",
       " (30, 'married'),\n",
       " (22, 'married')]"
      ]
     },
     "execution_count": 32,
     "metadata": {},
     "output_type": "execute_result"
    }
   ],
   "source": [
    "filtered_race_gap = session.query(table.age, table.married).filter(table.age >= 6, table.married ==\"married\").all()\n",
    "filtered_race_gap"
   ]
  },
  {
   "cell_type": "code",
   "execution_count": 16,
   "metadata": {},
   "outputs": [
    {
     "ename": "AttributeError",
     "evalue": "type object 'api_data_table' has no attribute 'columns'",
     "output_type": "error",
     "traceback": [
      "\u001b[1;31m---------------------------------------------------------------------------\u001b[0m",
      "\u001b[1;31mAttributeError\u001b[0m                            Traceback (most recent call last)",
      "\u001b[1;32m<ipython-input-16-17451e351c5f>\u001b[0m in \u001b[0;36m<module>\u001b[1;34m\u001b[0m\n\u001b[1;32m----> 1\u001b[1;33m \u001b[0msession\u001b[0m\u001b[1;33m.\u001b[0m\u001b[0mquery\u001b[0m\u001b[1;33m(\u001b[0m\u001b[0mtable\u001b[0m\u001b[1;33m.\u001b[0m\u001b[0mcolumns\u001b[0m\u001b[1;33m)\u001b[0m\u001b[1;33m.\u001b[0m\u001b[0mall\u001b[0m\u001b[1;33m(\u001b[0m\u001b[1;33m)\u001b[0m\u001b[1;33m\u001b[0m\u001b[1;33m\u001b[0m\u001b[0m\n\u001b[0m",
      "\u001b[1;31mAttributeError\u001b[0m: type object 'api_data_table' has no attribute 'columns'"
     ]
    }
   ],
   "source": [
    "session.query().all()"
   ]
  },
  {
   "cell_type": "code",
   "execution_count": null,
   "metadata": {},
   "outputs": [],
   "source": []
  }
 ],
 "metadata": {
  "kernelspec": {
   "display_name": "Python 3",
   "language": "python",
   "name": "python3"
  },
  "language_info": {
   "codemirror_mode": {
    "name": "ipython",
    "version": 3
   },
   "file_extension": ".py",
   "mimetype": "text/x-python",
   "name": "python",
   "nbconvert_exporter": "python",
   "pygments_lexer": "ipython3",
   "version": "3.7.3"
  }
 },
 "nbformat": 4,
 "nbformat_minor": 2
}
