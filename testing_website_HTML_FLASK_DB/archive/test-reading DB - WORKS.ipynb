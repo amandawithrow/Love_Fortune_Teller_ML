{
 "cells": [
  {
   "cell_type": "code",
   "execution_count": 19,
   "metadata": {},
   "outputs": [],
   "source": [
    "import os\n",
    "\n",
    "import pandas as pd\n",
    "import numpy as np\n",
    "\n",
    "from sqlalchemy.ext.automap import automap_base\n",
    "from sqlalchemy.orm import Session\n",
    "from sqlalchemy import create_engine\n",
    "\n",
    "from flask import Flask, jsonify, render_template\n",
    "from flask_sqlalchemy import SQLAlchemy\n",
    "\n",
    "app = Flask(__name__)"
   ]
  },
  {
   "cell_type": "code",
   "execution_count": 8,
   "metadata": {
    "scrolled": true
   },
   "outputs": [],
   "source": [
    "# app.config[\"SQLALCHEMY_DATABASE_URI\"] = \"sqlite:///db/bellybutton.sqlite\" # this works\n",
    "# app.config[\"SQLALCHEMY_DATABASE_URI\"] = \"sqlite:///db/fake_data.sqlite\"\n",
    "# db = SQLAlchemy(app)"
   ]
  },
  {
   "cell_type": "code",
   "execution_count": 10,
   "metadata": {},
   "outputs": [],
   "source": [
    "engine = create_engine(\"sqlite:///db/fake_data.sqlite\")\n",
    "engine = create_engine(\"sqlite:///db/final_database.db\")\n",
    "# engine = create_engine(\"sqlite:///db/HCMST_all_wvs_test.sqlite\")\n",
    "# engine = create_engine(\"sqlite:///db/bellybutton.sqlite\")\n",
    "# reflect an existing database into a new model\n",
    "Base = automap_base()\n",
    "# reflect the tables\n",
    "Base.prepare(engine, reflect=True)"
   ]
  },
  {
   "cell_type": "code",
   "execution_count": 11,
   "metadata": {},
   "outputs": [
    {
     "data": {
      "text/plain": [
       "['df']"
      ]
     },
     "execution_count": 11,
     "metadata": {},
     "output_type": "execute_result"
    }
   ],
   "source": [
    "Base.classes.keys()"
   ]
  },
  {
   "cell_type": "code",
   "execution_count": 12,
   "metadata": {},
   "outputs": [
    {
     "data": {
      "text/plain": [
       "['df']"
      ]
     },
     "execution_count": 12,
     "metadata": {},
     "output_type": "execute_result"
    }
   ],
   "source": [
    "engine.table_names()"
   ]
  },
  {
   "cell_type": "code",
   "execution_count": 34,
   "metadata": {},
   "outputs": [
    {
     "data": {
      "text/plain": [
       "sqlalchemy.ext.automap.df"
      ]
     },
     "execution_count": 34,
     "metadata": {},
     "output_type": "execute_result"
    }
   ],
   "source": [
    "table = Base.classes.df\n",
    "table"
   ]
  },
  {
   "cell_type": "code",
   "execution_count": 30,
   "metadata": {},
   "outputs": [],
   "source": [
    "session = Session(engine)"
   ]
  },
  {
   "cell_type": "code",
   "execution_count": 31,
   "metadata": {},
   "outputs": [
    {
     "name": "stderr",
     "output_type": "stream",
     "text": [
      "C:\\Users\\Romina\\Anaconda3\\lib\\site-packages\\flask_sqlalchemy\\__init__.py:794: FSADeprecationWarning: SQLALCHEMY_TRACK_MODIFICATIONS adds significant overhead and will be disabled by default in the future.  Set it to True or False to suppress this warning.\n",
      "  'SQLALCHEMY_TRACK_MODIFICATIONS adds significant overhead and '\n"
     ]
    }
   ],
   "source": [
    "db = SQLAlchemy(app)"
   ]
  },
  {
   "cell_type": "code",
   "execution_count": 32,
   "metadata": {},
   "outputs": [
    {
     "name": "stdout",
     "output_type": "stream",
     "text": [
      "['index', 'sample', 'age_gap', 'edu_gap', 'children', 'race_gap', 'homosexual']\n",
      "(0, 1, 2, 'y', 1.0, 'n', 'n')\n",
      "(1, 2, 23, 'y', 2.0, 'n', 'n')\n",
      "(2, 3, 64, 'y', 2.0, 'y', 'n')\n",
      "(3, 4, 2, 'y', 3.0, 'y', 'n')\n",
      "(4, 5, 46, 'n', 0.0, 'y', 'n')\n",
      "(5, 6, 22, 'n', 0.0, 'y', 'n')\n",
      "(6, 7, 3, 'y', 0.0, 'n', 'n')\n",
      "(7, 11, 5, 'n', 0.0, 'n', 'y')\n",
      "(8, 22, 8, 'n', 0.0, 'y', 'n')\n",
      "(9, 33, 5, 'n', 1.0, 'n', 'n')\n",
      "(10, 44, 6, 'n', 2.0, 'n', 'n')\n",
      "(11, 55, 9, 'y', 3.0, 'y', 'y')\n",
      "(12, 66, 12, 'y', None, 'n', 'n')\n",
      "(13, 77, 3, 'n', 8.0, 'y', 'n')\n"
     ]
    }
   ],
   "source": [
    "data= engine.execute(\"SELECT * FROM df\")\n",
    "print(data.keys())\n",
    "for record in data:\n",
    "    print(record)"
   ]
  },
  {
   "cell_type": "code",
   "execution_count": 41,
   "metadata": {},
   "outputs": [
    {
     "data": {
      "text/plain": [
       "[('n', 7), ('n', 11), ('n', 33), ('n', 44), ('n', 66)]"
      ]
     },
     "execution_count": 41,
     "metadata": {},
     "output_type": "execute_result"
    }
   ],
   "source": [
    "filtered_race_gap = session.query(table.race_gap, table.sample).filter(table.sample >= 6, table.race_gap ==\"n\").all()\n",
    "filtered_race_gap"
   ]
  }
 ],
 "metadata": {
  "kernelspec": {
   "display_name": "Python 3",
   "language": "python",
   "name": "python3"
  },
  "language_info": {
   "codemirror_mode": {
    "name": "ipython",
    "version": 3
   },
   "file_extension": ".py",
   "mimetype": "text/x-python",
   "name": "python",
   "nbconvert_exporter": "python",
   "pygments_lexer": "ipython3",
   "version": "3.7.3"
  }
 },
 "nbformat": 4,
 "nbformat_minor": 2
}
